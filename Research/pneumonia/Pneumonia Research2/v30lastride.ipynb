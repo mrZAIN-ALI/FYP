{
 "cells": [
  {
   "cell_type": "code",
   "execution_count": 11,
   "metadata": {
    "execution": {
     "iopub.execute_input": "2025-03-31T20:14:36.353903Z",
     "iopub.status.busy": "2025-03-31T20:14:36.353577Z",
     "iopub.status.idle": "2025-03-31T20:14:36.393955Z",
     "shell.execute_reply": "2025-03-31T20:14:36.393016Z",
     "shell.execute_reply.started": "2025-03-31T20:14:36.353875Z"
    },
    "trusted": true
   },
   "outputs": [
    {
     "name": "stdout",
     "output_type": "stream",
     "text": [
      "✅ Libraries imported & seeds set!\n"
     ]
    }
   ],
   "source": [
    "# ✅ Fix: Import train_test_split\n",
    "import os\n",
    "import numpy as np\n",
    "import pandas as pd\n",
    "import tensorflow as tf\n",
    "import pydicom\n",
    "import io\n",
    "from sklearn.model_selection import train_test_split  # <-- ADD THIS LINE\n",
    "\n",
    "# Set seeds for reproducibility\n",
    "SEED = 42\n",
    "np.random.seed(SEED)\n",
    "tf.random.set_seed(SEED)\n",
    "print(\"✅ Libraries imported & seeds set!\")"
   ]
  },
  {
   "cell_type": "code",
   "execution_count": 12,
   "metadata": {
    "execution": {
     "iopub.execute_input": "2025-03-31T20:14:36.395750Z",
     "iopub.status.busy": "2025-03-31T20:14:36.395463Z",
     "iopub.status.idle": "2025-03-31T20:14:36.411783Z",
     "shell.execute_reply": "2025-03-31T20:14:36.411010Z",
     "shell.execute_reply.started": "2025-03-31T20:14:36.395727Z"
    },
    "trusted": true
   },
   "outputs": [],
   "source": [
    "# ✅ Add these imports to the top of your notebook\n",
    "from tensorflow.keras.applications import DenseNet201\n",
    "from tensorflow.keras.models import Sequential\n",
    "from tensorflow.keras.layers import GlobalAveragePooling2D, Dense, Dropout, SpatialDropout2D\n",
    "from tensorflow.keras.optimizers import AdamW\n",
    "from tensorflow.keras.losses import BinaryFocalCrossentropy\n",
    "from tensorflow.keras.metrics import AUC"
   ]
  },
  {
   "cell_type": "code",
   "execution_count": null,
   "metadata": {
    "execution": {
     "iopub.execute_input": "2025-03-31T20:14:36.413258Z",
     "iopub.status.busy": "2025-03-31T20:14:36.412983Z",
     "iopub.status.idle": "2025-03-31T20:14:36.517764Z",
     "shell.execute_reply": "2025-03-31T20:14:36.516890Z",
     "shell.execute_reply.started": "2025-03-31T20:14:36.413237Z"
    },
    "trusted": true
   },
   "outputs": [
    {
     "name": "stdout",
     "output_type": "stream",
     "text": [
      "Train: 21347 | Val: 5337\n",
      "Pneumonia ratio: 0.22532440155525366\n"
     ]
    }
   ],
   "source": [
    "# ✅ Load data with stratified split for class imbalance\n",
    "dataset_path = \"/kaggle/input/rsna-pneumonia-detection-challenge\"\n",
    "\n",
    "# Load CSV files\n",
    "labels_df = pd.read_csv(os.path.join(dataset_path, \"stage_2_train_labels.csv\"))\n",
    "class_df = pd.read_csv(os.path.join(dataset_path, \"stage_2_detailed_class_info.csv\"))\n",
    "\n",
    "# Merge and deduplicate\n",
    "merged = pd.merge(labels_df[['patientId','Target']], class_df[['patientId','class']], on='patientId')\n",
    "merged = merged.drop_duplicates('patientId').reset_index(drop=True)\n",
    "\n",
    "# Stratified split (80-20)\n",
    "train_df, val_df = train_test_split(\n",
    "    merged, \n",
    "    test_size=0.2, \n",
    "    stratify=merged['Target'], \n",
    "    random_state=SEED\n",
    ")\n",
    "\n",
    "print(f\"Train: {len(train_df)} | Val: {len(val_df)}\")\n",
    "print(\"Pneumonia ratio:\", train_df['Target'].mean())"
   ]
  },
  {
   "cell_type": "code",
   "execution_count": 14,
   "metadata": {
    "execution": {
     "iopub.execute_input": "2025-03-31T20:14:36.519155Z",
     "iopub.status.busy": "2025-03-31T20:14:36.518824Z",
     "iopub.status.idle": "2025-03-31T20:14:36.725576Z",
     "shell.execute_reply": "2025-03-31T20:14:36.724894Z",
     "shell.execute_reply.started": "2025-03-31T20:14:36.519124Z"
    },
    "trusted": true
   },
   "outputs": [],
   "source": [
    "# ✅ Fix: Explicit shape definition at every step\n",
    "\n",
    "# 1. Get file paths and labels (same as before)\n",
    "train_paths = [os.path.join(dataset_path, \"stage_2_train_images\", pid + \".dcm\") for pid in train_df['patientId']]\n",
    "train_labels = train_df['Target'].values.astype(np.int32)\n",
    "\n",
    "val_paths = [os.path.join(dataset_path, \"stage_2_train_images\", pid + \".dcm\") for pid in val_df['patientId']]\n",
    "val_labels = val_df['Target'].values.astype(np.int32)\n",
    "\n",
    "# 2. Create datasets\n",
    "train_ds = tf.data.Dataset.from_tensor_slices((train_paths, train_labels))\n",
    "val_ds = tf.data.Dataset.from_tensor_slices((val_paths, val_labels))\n",
    "\n",
    "# 3. Preprocessing with enforced shapes\n",
    "def process_path(path, label):\n",
    "    # Read DICOM bytes\n",
    "    img_bytes = tf.io.read_file(path)\n",
    "    \n",
    "    # Decode DICOM and enforce shape\n",
    "    img = tf.numpy_function(\n",
    "        lambda x: pydicom.dcmread(io.BytesIO(x)).pixel_array.astype(np.float32),\n",
    "        [img_bytes],\n",
    "        tf.float32\n",
    "    )\n",
    "    img.set_shape((1024, 1024))  # ⚠️ Critical fix: Set shape here\n",
    "    \n",
    "    # Normalize\n",
    "    img = (img - tf.reduce_min(img)) / (tf.reduce_max(img) - tf.reduce_min(img) + 1e-7)\n",
    "    \n",
    "    # Add channel dim + convert to RGB\n",
    "    img = tf.expand_dims(img, axis=-1)  # (1024, 1024, 1)\n",
    "    img = tf.image.grayscale_to_rgb(img)  # (1024, 1024, 3)\n",
    "    \n",
    "    # Resize with known shape\n",
    "    img = tf.image.resize(img, [224, 224])  # Now works\n",
    "    \n",
    "    # Augmentation\n",
    "    img = tf.image.random_flip_left_right(img)\n",
    "    img = tf.image.random_brightness(img, 0.1)\n",
    "    \n",
    "    return img, label\n",
    "\n",
    "# 4. Batch and prefetch\n",
    "BATCH_SIZE = 32\n",
    "train_ds = train_ds.map(process_path).shuffle(1000).batch(BATCH_SIZE).prefetch(2)\n",
    "val_ds = val_ds.map(process_path).batch(BATCH_SIZE).prefetch(2)"
   ]
  },
  {
   "cell_type": "code",
   "execution_count": 15,
   "metadata": {
    "execution": {
     "iopub.execute_input": "2025-03-31T20:14:36.727130Z",
     "iopub.status.busy": "2025-03-31T20:14:36.726831Z",
     "iopub.status.idle": "2025-03-31T20:14:36.733022Z",
     "shell.execute_reply": "2025-03-31T20:14:36.732207Z",
     "shell.execute_reply.started": "2025-03-31T20:14:36.727100Z"
    },
    "trusted": true
   },
   "outputs": [
    {
     "name": "stdout",
     "output_type": "stream",
     "text": [
      "Class weights: {0: 0.6454314567333858, 1: 2.219022869022869}\n"
     ]
    }
   ],
   "source": [
    "# ✅ Handle class imbalance\n",
    "class_counts = train_df['Target'].value_counts()\n",
    "total = class_counts.sum()\n",
    "class_weights = {\n",
    "    0: total / (2 * class_counts[0]),  # Normal\n",
    "    1: total / (2 * class_counts[1])   # Pneumonia\n",
    "}\n",
    "print(\"Class weights:\", class_weights)"
   ]
  },
  {
   "cell_type": "code",
   "execution_count": 16,
   "metadata": {
    "execution": {
     "iopub.execute_input": "2025-03-31T20:14:36.734622Z",
     "iopub.status.busy": "2025-03-31T20:14:36.734358Z",
     "iopub.status.idle": "2025-03-31T20:14:36.747080Z",
     "shell.execute_reply": "2025-03-31T20:14:36.746403Z",
     "shell.execute_reply.started": "2025-03-31T20:14:36.734602Z"
    },
    "trusted": true
   },
   "outputs": [],
   "source": [
    "# # ✅ DenseNet201 with regularization\n",
    "# from tensorflow.keras import layers, models, applications\n",
    "\n",
    "# # 1. Base model (first 150 layers frozen)\n",
    "# base_model = applications.DenseNet201(\n",
    "#     weights='imagenet', \n",
    "#     include_top=False, \n",
    "#     input_shape=(224, 224, 3)\n",
    "# )\n",
    "# for layer in base_model.layers[:150]:a\n",
    "#     layer.trainable = False\n",
    "\n",
    "# # 2. Custom head\n",
    "# model = models.Sequential([\n",
    "#     base_model,\n",
    "#     layers.GlobalAveragePooling2D(),\n",
    "#     layers.Dropout(0.5),  # Strong dropout\n",
    "#     layers.Dense(64, activation='relu', kernel_regularizer='l2'),\n",
    "#     layers.Dense(1, activation='sigmoid')\n",
    "# ])\n",
    "\n",
    "# # 3. Compile with AdamW\n",
    "# model.compile(\n",
    "#     optimizer=tf.keras.optimizers.AdamW(learning_rate=1e-4, weight_decay=1e-4),\n",
    "#     loss='binary_crossentropy',\n",
    "#     metrics=['accuracy', tf.keras.metrics.AUC(name='auc')]\n",
    "# )\n",
    "# model.summary()"
   ]
  },
  {
   "cell_type": "code",
   "execution_count": null,
   "metadata": {
    "trusted": true
   },
   "outputs": [],
   "source": []
  },
  {
   "cell_type": "code",
   "execution_count": 17,
   "metadata": {
    "execution": {
     "iopub.execute_input": "2025-03-31T20:14:36.748309Z",
     "iopub.status.busy": "2025-03-31T20:14:36.748011Z",
     "iopub.status.idle": "2025-03-31T20:14:40.375573Z",
     "shell.execute_reply": "2025-03-31T20:14:40.374666Z",
     "shell.execute_reply.started": "2025-03-31T20:14:36.748280Z"
    },
    "trusted": true
   },
   "outputs": [],
   "source": [
    "# Model Architecture Adjustments\n",
    "base_model = DenseNet201(weights='imagenet', include_top=False, input_shape=(224, 224, 3))\n",
    "\n",
    "# Freeze first 200 layers\n",
    "for layer in base_model.layers[:200]:\n",
    "    layer.trainable = False\n",
    "\n",
    "# Add SpatialDropout and stronger L2\n",
    "model = Sequential([\n",
    "    base_model,\n",
    "    SpatialDropout2D(0.5),  # ⚠️ Critical fix\n",
    "    GlobalAveragePooling2D(),\n",
    "    Dense(64, activation='relu', kernel_regularizer=tf.keras.regularizers.l2(0.01)),\n",
    "    Dropout(0.5),\n",
    "    Dense(1, activation='sigmoid')\n",
    "])\n",
    "\n",
    "# Focal Loss for class imbalance\n",
    "model.compile(\n",
    "    optimizer=AdamW(learning_rate=1e-4, weight_decay=1e-4),\n",
    "    loss=BinaryFocalCrossentropy(gamma=2.0),  # Replace binary_crossentropy\n",
    "    metrics=['accuracy', AUC(name='auc')]\n",
    ")"
   ]
  },
  {
   "cell_type": "code",
   "execution_count": 18,
   "metadata": {
    "execution": {
     "iopub.execute_input": "2025-03-31T20:14:40.377325Z",
     "iopub.status.busy": "2025-03-31T20:14:40.377014Z",
     "iopub.status.idle": "2025-03-31T20:54:50.788577Z",
     "shell.execute_reply": "2025-03-31T20:54:50.787509Z",
     "shell.execute_reply.started": "2025-03-31T20:14:40.377289Z"
    },
    "trusted": true
   },
   "outputs": [
    {
     "name": "stdout",
     "output_type": "stream",
     "text": [
      "Epoch 1/30\n",
      "\u001b[1m667/667\u001b[0m \u001b[32m━━━━━━━━━━━━━━━━━━━━\u001b[0m\u001b[37m\u001b[0m \u001b[1m835s\u001b[0m 785ms/step - accuracy: 0.6525 - auc: 0.7202 - loss: 1.0505 - val_accuracy: 0.8014 - val_auc: 0.8691 - val_loss: 0.4751 - learning_rate: 1.0000e-04\n",
      "Epoch 2/30\n",
      "\u001b[1m  1/667\u001b[0m \u001b[37m━━━━━━━━━━━━━━━━━━━━\u001b[0m \u001b[1m42:40:05\u001b[0m 231s/step - accuracy: 0.6667 - auc: 0.0000e+00 - loss: 0.4357"
     ]
    },
    {
     "name": "stderr",
     "output_type": "stream",
     "text": [
      "/usr/lib/python3.10/contextlib.py:153: UserWarning: Your input ran out of data; interrupting training. Make sure that your dataset or generator can generate at least `steps_per_epoch * epochs` batches. You may need to use the `.repeat()` function when building your dataset.\n",
      "  self.gen.throw(typ, value, traceback)\n"
     ]
    },
    {
     "name": "stdout",
     "output_type": "stream",
     "text": [
      "\u001b[1m667/667\u001b[0m \u001b[32m━━━━━━━━━━━━━━━━━━━━\u001b[0m\u001b[37m\u001b[0m \u001b[1m296s\u001b[0m 99ms/step - accuracy: 0.6667 - auc: 0.0000e+00 - loss: 0.4357 - val_accuracy: 0.8023 - val_auc: 0.8694 - val_loss: 0.4740 - learning_rate: 1.0000e-04\n",
      "Epoch 3/30\n",
      "\u001b[1m667/667\u001b[0m \u001b[32m━━━━━━━━━━━━━━━━━━━━\u001b[0m\u001b[37m\u001b[0m \u001b[1m359s\u001b[0m 518ms/step - accuracy: 0.7543 - auc: 0.8453 - loss: 0.4401 - val_accuracy: 0.7690 - val_auc: 0.8751 - val_loss: 0.3398 - learning_rate: 1.0000e-04\n",
      "Epoch 4/30\n",
      "\u001b[1m667/667\u001b[0m \u001b[32m━━━━━━━━━━━━━━━━━━━━\u001b[0m\u001b[37m\u001b[0m \u001b[1m68s\u001b[0m 102ms/step - accuracy: 0.3333 - auc: 0.0000e+00 - loss: 0.3687 - val_accuracy: 0.7693 - val_auc: 0.8751 - val_loss: 0.3401 - learning_rate: 1.0000e-04\n",
      "Epoch 5/30\n",
      "\u001b[1m667/667\u001b[0m \u001b[32m━━━━━━━━━━━━━━━━━━━━\u001b[0m\u001b[37m\u001b[0m \u001b[1m352s\u001b[0m 507ms/step - accuracy: 0.7768 - auc: 0.8682 - loss: 0.3074 - val_accuracy: 0.8066 - val_auc: 0.8741 - val_loss: 0.2300 - learning_rate: 1.0000e-04\n",
      "Epoch 6/30\n",
      "\u001b[1m667/667\u001b[0m \u001b[32m━━━━━━━━━━━━━━━━━━━━\u001b[0m\u001b[37m\u001b[0m \u001b[1m69s\u001b[0m 103ms/step - accuracy: 1.0000 - auc: 1.0000 - loss: 0.2847 - val_accuracy: 0.8057 - val_auc: 0.8742 - val_loss: 0.2314 - learning_rate: 1.0000e-04\n",
      "Epoch 7/30\n",
      "\u001b[1m667/667\u001b[0m \u001b[32m━━━━━━━━━━━━━━━━━━━━\u001b[0m\u001b[37m\u001b[0m \u001b[1m361s\u001b[0m 522ms/step - accuracy: 0.7791 - auc: 0.8862 - loss: 0.2179 - val_accuracy: 0.8267 - val_auc: 0.8664 - val_loss: 0.1691 - learning_rate: 1.0000e-04\n",
      "Epoch 8/30\n",
      "\u001b[1m667/667\u001b[0m \u001b[32m━━━━━━━━━━━━━━━━━━━━\u001b[0m\u001b[37m\u001b[0m \u001b[1m70s\u001b[0m 104ms/step - accuracy: 0.6667 - auc: 0.0000e+00 - loss: 0.1547 - val_accuracy: 0.8282 - val_auc: 0.8653 - val_loss: 0.1690 - learning_rate: 1.0000e-04\n"
     ]
    }
   ],
   "source": [
    "# ✅ Prevent overfitting via early stopping and LR scheduling\n",
    "from tensorflow.keras.callbacks import EarlyStopping, ReduceLROnPlateau\n",
    "\n",
    "callbacks = [\n",
    "    EarlyStopping(\n",
    "        monitor='val_auc', \n",
    "        patience=5, \n",
    "        mode='max',  # Stop when AUC stops improving\n",
    "        restore_best_weights=True\n",
    "    ),\n",
    "    ReduceLROnPlateau(\n",
    "        monitor='val_loss', \n",
    "        factor=0.5, \n",
    "        patience=2, \n",
    "        verbose=1\n",
    "    )\n",
    "]\n",
    "\n",
    "# Calculate steps per epoch\n",
    "steps_per_epoch = len(train_df) // BATCH_SIZE\n",
    "val_steps = len(val_df) // BATCH_SIZE\n",
    "\n",
    "# Train\n",
    "history = model.fit(\n",
    "    train_ds,\n",
    "    epochs=30,\n",
    "    steps_per_epoch=steps_per_epoch,\n",
    "    validation_data=val_ds,\n",
    "    class_weight=class_weights,  # Critical for imbalance\n",
    "    callbacks=callbacks,\n",
    "    verbose=1\n",
    ")"
   ]
  },
  {
   "cell_type": "code",
   "execution_count": 19,
   "metadata": {
    "execution": {
     "iopub.execute_input": "2025-03-31T20:54:50.790286Z",
     "iopub.status.busy": "2025-03-31T20:54:50.789999Z",
     "iopub.status.idle": "2025-03-31T20:56:26.767686Z",
     "shell.execute_reply": "2025-03-31T20:56:26.766757Z",
     "shell.execute_reply.started": "2025-03-31T20:54:50.790264Z"
    },
    "trusted": true
   },
   "outputs": [
    {
     "data": {
      "image/png": "[encoded data removed]",
      "text/plain": [
       "<Figure size 1200x500 with 2 Axes>"
      ]
     },
     "metadata": {},
     "output_type": "display_data"
    },
    {
     "name": "stdout",
     "output_type": "stream",
     "text": [
      "Classification Report:\n",
      "               precision    recall  f1-score   support\n",
      "\n",
      "      Normal       0.94      0.75      0.83      4135\n",
      "   Pneumonia       0.49      0.84      0.62      1202\n",
      "\n",
      "    accuracy                           0.77      5337\n",
      "   macro avg       0.72      0.79      0.73      5337\n",
      "weighted avg       0.84      0.77      0.79      5337\n",
      "\n",
      "ROC-AUC: 0.875249231933074\n"
     ]
    }
   ],
   "source": [
    "# ✅ Validate model performance on imbalanced data\n",
    "import matplotlib.pyplot as plt\n",
    "from sklearn.metrics import classification_report, roc_auc_score\n",
    "\n",
    "# Plot training history\n",
    "plt.figure(figsize=(12, 5))\n",
    "plt.subplot(1, 2, 1)\n",
    "plt.plot(history.history['auc'], label='Train AUC')\n",
    "plt.plot(history.history['val_auc'], label='Val AUC')\n",
    "plt.title('AUC Curve')\n",
    "plt.legend()\n",
    "\n",
    "plt.subplot(1, 2, 2)\n",
    "plt.plot(history.history['loss'], label='Train Loss')\n",
    "plt.plot(history.history['val_loss'], label='Val Loss')\n",
    "plt.title('Loss Curve')\n",
    "plt.legend()\n",
    "plt.show()\n",
    "\n",
    "# Generate predictions\n",
    "y_true = []\n",
    "y_pred = []\n",
    "for images, labels in val_ds:\n",
    "    y_true.extend(labels.numpy())\n",
    "    y_pred.extend(model.predict(images, verbose=0).flatten())\n",
    "\n",
    "# Classification report (focus on Pneumonia recall)\n",
    "y_pred_class = (np.array(y_pred) > 0.5).astype(int)\n",
    "print(\"Classification Report:\\n\", classification_report(y_true, y_pred_class, target_names=['Normal', 'Pneumonia']))\n",
    "\n",
    "# ROC-AUC score\n",
    "print(\"ROC-AUC:\", roc_auc_score(y_true, y_pred))"
   ]
  }
 ],
 "metadata": {
  "kaggle": {
   "accelerator": "gpu",
   "dataSources": [
    {
     "databundleVersionId": 862042,
     "sourceId": 10338,
     "sourceType": "competition"
    },
    {
     "datasetId": 7007135,
     "sourceId": 11220263,
     "sourceType": "datasetVersion"
    },
    {
     "datasetId": 7007167,
     "sourceId": 11220305,
     "sourceType": "datasetVersion"
    }
   ],
   "isGpuEnabled": true,
   "isInternetEnabled": true,
   "language": "python",
   "sourceType": "notebook"
  },
  "kernelspec": {
   "display_name": "Python 3",
   "language": "python",
   "name": "python3"
  },
  "language_info": {
   "codemirror_mode": {
    "name": "ipython",
    "version": 3
   },
   "file_extension": ".py",
   "mimetype": "text/x-python",
   "name": "python",
   "nbconvert_exporter": "python",
   "pygments_lexer": "ipython3",
   "version": "3.10.12"
  }
 },
 "nbformat": 4,
 "nbformat_minor": 4
}
